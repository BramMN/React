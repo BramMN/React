{
 "cells": [
  {
   "cell_type": "code",
   "execution_count": null,
   "metadata": {},
   "outputs": [],
   "source": [
    "//React is a Javascript library for building interfaces.\n",
    "//React is all about components. All user interfaces are made up of components. Components are resuable building blocks in your user interface. Combination of HTML/CSS/JS.\n",
    "//Why components? Reusable, don't repeat yourself constantly. Separation of concerns, don't do too many things in one and the same place.\n",
    "//Split big chunks of code into multiple smaller functions."
   ]
  },
  {
   "cell_type": "code",
   "execution_count": null,
   "metadata": {},
   "outputs": [],
   "source": [
    "//React is all about combining HTML, CSS and JS. React allows you to create re-usable and reactive components consisting of HTML, CSS, JS.\n",
    "//In react you define the desired target state(s) and let React figure out the actual Javascript DOM instructions."
   ]
  },
  {
   "cell_type": "code",
   "execution_count": null,
   "metadata": {},
   "outputs": [],
   "source": [
    "//JSX = Javascript XML\n",
    "//A component in React is just a Javascript function\n",
    "//Props has the following idea: pass data into our components to make them configurable and reusable"
   ]
  }
 ],
 "metadata": {
  "language_info": {
   "name": "python"
  },
  "orig_nbformat": 4
 },
 "nbformat": 4,
 "nbformat_minor": 2
}
