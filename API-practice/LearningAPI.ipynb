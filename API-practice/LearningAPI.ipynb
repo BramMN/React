{
 "cells": [
  {
   "cell_type": "code",
   "execution_count": 9,
   "metadata": {},
   "outputs": [
    {
     "name": "stdout",
     "output_type": "stream",
     "text": [
      "200\n",
      "{\"image\":\"https:\\/\\/randomfox.ca\\/images\\/122.jpg\",\"link\":\"https:\\/\\/randomfox.ca\\/?i=122\"}\n",
      "{'image': 'https://randomfox.ca/images/122.jpg', 'link': 'https://randomfox.ca/?i=122'}\n",
      "https://randomfox.ca/images/122.jpg\n",
      "https://randomfox.ca/?i=122\n"
     ]
    }
   ],
   "source": [
    "import requests\n",
    "\n",
    "response = requests.get(\"https://randomfox.ca/floof/\")\n",
    "print(response.status_code)\n",
    "print(response.text)\n",
    "print(response.json())\n",
    "\n",
    "fox = response.json()\n",
    "print(fox['image'])\n",
    "print(fox['link'])"
   ]
  },
  {
   "cell_type": "code",
   "execution_count": 35,
   "metadata": {},
   "outputs": [
    {
     "data": {
      "image/png": "[encoded data removed]",
      "text/plain": [
       "<Figure size 432x288 with 1 Axes>"
      ]
     },
     "metadata": {
      "needs_background": "light"
     },
     "output_type": "display_data"
    }
   ],
   "source": [
    "import requests\n",
    "import matplotlib.pyplot as plt\n",
    "\n",
    "response = requests.get(\"https://subredditstats.com/api/subreddit?name=bitcoin\").json()\n",
    "dayscount = response[\"subscriberCountTimeSeries\"]\n",
    "xarray=[]\n",
    "for i in range(len(dayscount)):\n",
    "    xarray.append(dayscount[i]['utcDay'])\n",
    "yarray=[]\n",
    "for i in range(len(dayscount)):\n",
    "    yarray.append(dayscount[i]['count'])\n",
    "\n",
    "fig, ax = plt.subplots()\n",
    "ax.plot(xarray, yarray)\n",
    "plt.show()\n"
   ]
  },
  {
   "cell_type": "code",
   "execution_count": 11,
   "metadata": {},
   "outputs": [
    {
     "name": "stdout",
     "output_type": "stream",
     "text": [
      "200\n",
      "[{'exchangeName': 'All', 'openInterest': 159341.0251, 'rate': 100, 'h24Change': -5.83, 'exchangeLogo': 'https://cdn.sampyun.com/static/blank.png'}, {'exchangeName': 'Deribit', 'symbol': 'BTC', 'openInterest': 141465.9, 'rate': 88.78, 'h24Change': -6.4, 'exchangeLogo': 'https://cdn.sampyun.com/static/exchanges/deribit.png'}, {'exchangeName': 'CME', 'symbol': 'BTC', 'openInterest': 7595, 'rate': 4.76, 'h24Change': 4.83, 'exchangeLogo': 'https://cdn.sampyun.com/static/exchanges/cme-icon-144x144.png'}, {'exchangeName': 'Bit.com', 'symbol': 'BTC', 'openInterest': 3401.3, 'rate': 2.13, 'h24Change': -7.44, 'exchangeLogo': 'https://cdn.sampyun.com/static/exchanges/bit-com.png'}, {'exchangeName': 'Okex', 'symbol': 'BTC', 'openInterest': 3364.7, 'rate': 2.11, 'h24Change': -2.72, 'exchangeLogo': 'https://cdn.sampyun.com/static/exchanges/294.png'}, {'exchangeName': 'LedgerX', 'symbol': 'BTC', 'openInterest': 3148.06, 'rate': 1.97, 'h24Change': -5.54, 'exchangeLogo': 'https://cdn.sampyun.com/static/exchanges/LedgerX.png'}, {'exchangeName': 'FTX', 'symbol': 'BTC', 'openInterest': 366.0651, 'rate': 0.22, 'h24Change': -1.24, 'exchangeLogo': 'https://cdn.sampyun.com/static/exchanges/524.png'}]\n"
     ]
    }
   ],
   "source": [
    "import requests\n",
    "url = \"https://open-api.coinglass.com/api/pro/v1/option/openInterest?symbol=BTC\"\n",
    "params = {}\n",
    "headers = {\n",
    "  'coinglassSecret': '1eb02c4897eb4d9184539ab8105c29ed'\n",
    "}\n",
    "response = requests.request(\"GET\", url, headers=headers, data = params)\n",
    "print(response.status_code)\n",
    "\n",
    "data=response.json()['data']\n",
    "print(data)"
   ]
  }
 ],
 "metadata": {
  "interpreter": {
   "hash": "6a741106374af66907e454d5eb9f7220e458921b2d22e15106cc427032c4925a"
  },
  "kernelspec": {
   "display_name": "Python 3.10.1 64-bit",
   "language": "python",
   "name": "python3"
  },
  "language_info": {
   "codemirror_mode": {
    "name": "ipython",
    "version": 3
   },
   "file_extension": ".py",
   "mimetype": "text/x-python",
   "name": "python",
   "nbconvert_exporter": "python",
   "pygments_lexer": "ipython3",
   "version": "3.10.1"
  },
  "orig_nbformat": 4
 },
 "nbformat": 4,
 "nbformat_minor": 2
}
